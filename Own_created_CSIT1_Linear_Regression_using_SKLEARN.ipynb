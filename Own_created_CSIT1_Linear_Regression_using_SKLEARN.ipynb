{
  "nbformat": 4,
  "nbformat_minor": 0,
  "metadata": {
    "colab": {
      "provenance": [],
      "include_colab_link": true
    },
    "kernelspec": {
      "name": "python3",
      "display_name": "Python 3"
    }
  },
  "cells": [
    {
      "cell_type": "markdown",
      "metadata": {
        "id": "view-in-github",
        "colab_type": "text"
      },
      "source": [
        "<a href=\"https://colab.research.google.com/github/kishorigarg/MachineLearning_lab/blob/main/Own_created_CSIT1_Linear_Regression_using_SKLEARN.ipynb\" target=\"_parent\"><img src=\"https://colab.research.google.com/assets/colab-badge.svg\" alt=\"Open In Colab\"/></a>"
      ]
    },
    {
      "cell_type": "code",
      "source": [
        "from google.colab import drive\n",
        "drive.mount('/content/drive')"
      ],
      "metadata": {
        "id": "umpdI-JnUgi5",
        "colab": {
          "base_uri": "https://localhost:8080/"
        },
        "outputId": "e4dbaef5-d67a-486d-8edf-4d80ff32a93d"
      },
      "execution_count": 1,
      "outputs": [
        {
          "output_type": "stream",
          "name": "stdout",
          "text": [
            "Mounted at /content/drive\n"
          ]
        }
      ]
    },
    {
      "cell_type": "markdown",
      "source": [
        "# New Section"
      ],
      "metadata": {
        "id": "B3QUizQMU4pS"
      }
    },
    {
      "cell_type": "code",
      "metadata": {
        "id": "sfJFOUleNlez"
      },
      "source": [
        "#Step 1: Data Preprocessing\n",
        "from sklearn.model_selection import train_test_split\n",
        "import pandas as pd\n",
        "import numpy as np\n",
        "import matplotlib.pyplot as plt\n",
        "\n",
        "dataset = pd.read_csv('/content/linear_regression_dataset.csv')\n",
        "X = dataset.iloc[ :  ,   : 1 ].values\n",
        "Y = dataset.iloc[ : , 1 ].values\n",
        "\n",
        "X_train, X_test, Y_train, Y_test = train_test_split( X, Y, test_size = 1/4, random_state = 0)"
      ],
      "execution_count": 11,
      "outputs": []
    },
    {
      "cell_type": "code",
      "metadata": {
        "id": "1nZ_kIucTFn5",
        "colab": {
          "base_uri": "https://localhost:8080/"
        },
        "outputId": "8470869f-ecb2-4a6f-d8aa-175b6da81f72"
      },
      "source": [
        "from google.colab import drive\n",
        "drive.mount('/content/drive')"
      ],
      "execution_count": 12,
      "outputs": [
        {
          "output_type": "stream",
          "name": "stdout",
          "text": [
            "Drive already mounted at /content/drive; to attempt to forcibly remount, call drive.mount(\"/content/drive\", force_remount=True).\n"
          ]
        }
      ]
    },
    {
      "cell_type": "markdown",
      "metadata": {
        "id": "qjMCaNSfNyWe"
      },
      "source": [
        "Step 2: Fitting Simple Linear Regression Model to the training set"
      ]
    },
    {
      "cell_type": "code",
      "metadata": {
        "id": "49OjYlhFN3rP"
      },
      "source": [
        "from sklearn.linear_model import LinearRegression\n",
        "regressor = LinearRegression()\n",
        "regressor = regressor.fit(X_train, Y_train)"
      ],
      "execution_count": 14,
      "outputs": []
    },
    {
      "cell_type": "markdown",
      "metadata": {
        "id": "pbB7ShVAN7Xw"
      },
      "source": [
        "Step 3: Predecting the Result"
      ]
    },
    {
      "cell_type": "code",
      "metadata": {
        "id": "kO_-udPfN9kW"
      },
      "source": [
        "Y_pred = regressor.predict(X_test)\n"
      ],
      "execution_count": 15,
      "outputs": []
    },
    {
      "cell_type": "markdown",
      "metadata": {
        "id": "74hkIXanOBO1"
      },
      "source": [
        "Step 4: Visualization"
      ]
    },
    {
      "cell_type": "code",
      "metadata": {
        "id": "pc3IfFlTOEw5",
        "colab": {
          "base_uri": "https://localhost:8080/",
          "height": 447
        },
        "outputId": "d4bc8f58-0ffb-46cb-88e0-2a22edc07256"
      },
      "source": [
        "plt.scatter(X_train , Y_train, color = 'black')\n",
        "plt.plot(X_train , regressor.predict(X_train), color ='blue')\n"
      ],
      "execution_count": 16,
      "outputs": [
        {
          "output_type": "execute_result",
          "data": {
            "text/plain": [
              "[<matplotlib.lines.Line2D at 0x7f17626a1850>]"
            ]
          },
          "metadata": {},
          "execution_count": 16
        },
        {
          "output_type": "display_data",
          "data": {
            "text/plain": [
              "<Figure size 640x480 with 1 Axes>"
            ],
            "image/png": "[encoded data removed]"
          },
          "metadata": {}
        }
      ]
    },
    {
      "cell_type": "code",
      "metadata": {
        "id": "T3-1NFQDONiS"
      },
      "source": [
        "plt.scatter(X_test , Y_test, color = 'red')\n",
        "plt.plot(X_test , regressor.predict(X_test), color ='blue')"
      ],
      "execution_count": null,
      "outputs": []
    }
  ]
}